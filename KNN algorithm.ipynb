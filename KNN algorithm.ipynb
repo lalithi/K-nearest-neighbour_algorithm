{
  "cells": [
    {
      "metadata": {},
      "cell_type": "markdown",
      "source": "(1) I hereby agree to follow any and all assignment rules and procedures as stated in Canvas for this course, MATH2319.\n\n(2) In particular, I solemnly swear that I will not discuss/ have not discussed my assignment solutions with anyone in any way and the solutions I am submitting are my own personal work.\n\nFull Name: [Bodiyabaduge Dewsri Lalithi Perera]\nIndex Number: [s3762890]"
    },
    {
      "metadata": {},
      "cell_type": "markdown",
      "source": "# Assignment 1"
    },
    {
      "metadata": {},
      "cell_type": "markdown",
      "source": "## Question 1"
    },
    {
      "metadata": {},
      "cell_type": "markdown",
      "source": "## Tasks\n- [Importing packages](#Importing_packages)\n- [Loading the data](#Loading_the_data)\n- [Handling data quality issues](#Data_quality_issues)\n- [Discretizing 'A2'](#Discretizing_'A2')\n- [Normalization](#Normalization)\n- [Labeling the last column as 'target'](#Labeling_'target')\n- [Renaming the preprocessed data set](#Renaming_dataset)\n- [Saving the data set ](#Saving_dataset )\n"
    },
    {
      "metadata": {
        "trusted": true
      },
      "cell_type": "markdown",
      "source": "### Importing the necessary packages  \n<a name=\"Importing_packages\"></a>"
    },
    {
      "metadata": {
        "trusted": true
      },
      "cell_type": "code",
      "source": "import warnings\nwarnings.filterwarnings(\"ignore\")\n\nimport numpy as np\nimport pandas as pd\nimport matplotlib.pyplot as plt\nfrom sklearn import preprocessing",
      "execution_count": 1,
      "outputs": []
    },
    {
      "metadata": {},
      "cell_type": "markdown",
      "source": "### Loading the data \n<a name=\"Loading_the_data\"></a>"
    },
    {
      "metadata": {
        "trusted": true
      },
      "cell_type": "code",
      "source": "# Loading data\nattributeNames = ['A1','A2','A3','A4','A5','A6','A7','A8','A9','A10','A11','A12','A13','A14','A15','A16']\n\ndf = pd.read_csv('Assignment1_Q1_crx.data', sep=\",\", names = attributeNames, header = None)\n\ndf.head(10) # Checking the data set",
      "execution_count": 2,
      "outputs": [
        {
          "output_type": "execute_result",
          "execution_count": 2,
          "data": {
            "text/html": "<div>\n<style scoped>\n    .dataframe tbody tr th:only-of-type {\n        vertical-align: middle;\n    }\n\n    .dataframe tbody tr th {\n        vertical-align: top;\n    }\n\n    .dataframe thead th {\n        text-align: right;\n    }\n</style>\n<table border=\"1\" class=\"dataframe\">\n  <thead>\n    <tr style=\"text-align: right;\">\n      <th></th>\n      <th>A1</th>\n      <th>A2</th>\n      <th>A3</th>\n      <th>A4</th>\n      <th>A5</th>\n      <th>A6</th>\n      <th>A7</th>\n      <th>A8</th>\n      <th>A9</th>\n      <th>A10</th>\n      <th>A11</th>\n      <th>A12</th>\n      <th>A13</th>\n      <th>A14</th>\n      <th>A15</th>\n      <th>A16</th>\n    </tr>\n  </thead>\n  <tbody>\n    <tr>\n      <th>0</th>\n      <td>b</td>\n      <td>30.83</td>\n      <td>0.000</td>\n      <td>u</td>\n      <td>g</td>\n      <td>w</td>\n      <td>v</td>\n      <td>1.250</td>\n      <td>t</td>\n      <td>t</td>\n      <td>1</td>\n      <td>f</td>\n      <td>g</td>\n      <td>00202</td>\n      <td>0</td>\n      <td>+</td>\n    </tr>\n    <tr>\n      <th>1</th>\n      <td>a</td>\n      <td>58.67</td>\n      <td>4.460</td>\n      <td>u</td>\n      <td>g</td>\n      <td>q</td>\n      <td>h</td>\n      <td>3.040</td>\n      <td>t</td>\n      <td>t</td>\n      <td>6</td>\n      <td>f</td>\n      <td>g</td>\n      <td>00043</td>\n      <td>560</td>\n      <td>+</td>\n    </tr>\n    <tr>\n      <th>2</th>\n      <td>a</td>\n      <td>24.50</td>\n      <td>0.500</td>\n      <td>u</td>\n      <td>g</td>\n      <td>q</td>\n      <td>h</td>\n      <td>1.500</td>\n      <td>t</td>\n      <td>f</td>\n      <td>0</td>\n      <td>f</td>\n      <td>g</td>\n      <td>00280</td>\n      <td>824</td>\n      <td>+</td>\n    </tr>\n    <tr>\n      <th>3</th>\n      <td>b</td>\n      <td>27.83</td>\n      <td>1.540</td>\n      <td>u</td>\n      <td>g</td>\n      <td>w</td>\n      <td>v</td>\n      <td>3.750</td>\n      <td>t</td>\n      <td>t</td>\n      <td>5</td>\n      <td>t</td>\n      <td>g</td>\n      <td>00100</td>\n      <td>3</td>\n      <td>+</td>\n    </tr>\n    <tr>\n      <th>4</th>\n      <td>b</td>\n      <td>20.17</td>\n      <td>5.625</td>\n      <td>u</td>\n      <td>g</td>\n      <td>w</td>\n      <td>v</td>\n      <td>1.710</td>\n      <td>t</td>\n      <td>f</td>\n      <td>0</td>\n      <td>f</td>\n      <td>s</td>\n      <td>00120</td>\n      <td>0</td>\n      <td>+</td>\n    </tr>\n    <tr>\n      <th>5</th>\n      <td>b</td>\n      <td>32.08</td>\n      <td>4.000</td>\n      <td>u</td>\n      <td>g</td>\n      <td>m</td>\n      <td>v</td>\n      <td>2.500</td>\n      <td>t</td>\n      <td>f</td>\n      <td>0</td>\n      <td>t</td>\n      <td>g</td>\n      <td>00360</td>\n      <td>0</td>\n      <td>+</td>\n    </tr>\n    <tr>\n      <th>6</th>\n      <td>b</td>\n      <td>33.17</td>\n      <td>1.040</td>\n      <td>u</td>\n      <td>g</td>\n      <td>r</td>\n      <td>h</td>\n      <td>6.500</td>\n      <td>t</td>\n      <td>f</td>\n      <td>0</td>\n      <td>t</td>\n      <td>g</td>\n      <td>00164</td>\n      <td>31285</td>\n      <td>+</td>\n    </tr>\n    <tr>\n      <th>7</th>\n      <td>a</td>\n      <td>22.92</td>\n      <td>11.585</td>\n      <td>u</td>\n      <td>g</td>\n      <td>cc</td>\n      <td>v</td>\n      <td>0.040</td>\n      <td>t</td>\n      <td>f</td>\n      <td>0</td>\n      <td>f</td>\n      <td>g</td>\n      <td>00080</td>\n      <td>1349</td>\n      <td>+</td>\n    </tr>\n    <tr>\n      <th>8</th>\n      <td>b</td>\n      <td>54.42</td>\n      <td>0.500</td>\n      <td>y</td>\n      <td>p</td>\n      <td>k</td>\n      <td>h</td>\n      <td>3.960</td>\n      <td>t</td>\n      <td>f</td>\n      <td>0</td>\n      <td>f</td>\n      <td>g</td>\n      <td>00180</td>\n      <td>314</td>\n      <td>+</td>\n    </tr>\n    <tr>\n      <th>9</th>\n      <td>b</td>\n      <td>42.50</td>\n      <td>4.915</td>\n      <td>y</td>\n      <td>p</td>\n      <td>w</td>\n      <td>v</td>\n      <td>3.165</td>\n      <td>t</td>\n      <td>f</td>\n      <td>0</td>\n      <td>t</td>\n      <td>g</td>\n      <td>00052</td>\n      <td>1442</td>\n      <td>+</td>\n    </tr>\n  </tbody>\n</table>\n</div>",
            "text/plain": "  A1     A2      A3 A4 A5  A6 A7     A8 A9 A10  A11 A12 A13    A14    A15 A16\n0  b  30.83   0.000  u  g   w  v  1.250  t   t    1   f   g  00202      0   +\n1  a  58.67   4.460  u  g   q  h  3.040  t   t    6   f   g  00043    560   +\n2  a  24.50   0.500  u  g   q  h  1.500  t   f    0   f   g  00280    824   +\n3  b  27.83   1.540  u  g   w  v  3.750  t   t    5   t   g  00100      3   +\n4  b  20.17   5.625  u  g   w  v  1.710  t   f    0   f   s  00120      0   +\n5  b  32.08   4.000  u  g   m  v  2.500  t   f    0   t   g  00360      0   +\n6  b  33.17   1.040  u  g   r  h  6.500  t   f    0   t   g  00164  31285   +\n7  a  22.92  11.585  u  g  cc  v  0.040  t   f    0   f   g  00080   1349   +\n8  b  54.42   0.500  y  p   k  h  3.960  t   f    0   f   g  00180    314   +\n9  b  42.50   4.915  y  p   w  v  3.165  t   f    0   t   g  00052   1442   +"
          },
          "metadata": {}
        }
      ]
    },
    {
      "metadata": {
        "trusted": true
      },
      "cell_type": "code",
      "source": "df.shape # Checking the data set",
      "execution_count": 3,
      "outputs": [
        {
          "output_type": "execute_result",
          "execution_count": 3,
          "data": {
            "text/plain": "(690, 16)"
          },
          "metadata": {}
        }
      ]
    },
    {
      "metadata": {
        "trusted": true
      },
      "cell_type": "code",
      "source": "df.dtypes # Observing data types",
      "execution_count": 4,
      "outputs": [
        {
          "output_type": "execute_result",
          "execution_count": 4,
          "data": {
            "text/plain": "A1      object\nA2      object\nA3     float64\nA4      object\nA5      object\nA6      object\nA7      object\nA8     float64\nA9      object\nA10     object\nA11      int64\nA12     object\nA13     object\nA14     object\nA15      int64\nA16     object\ndtype: object"
          },
          "metadata": {}
        }
      ]
    },
    {
      "metadata": {},
      "cell_type": "markdown",
      "source": "In the attribute description, 'A2' and 'A14' were described as numerical variables. Hence, the type of those attributes will be converted to numerical."
    },
    {
      "metadata": {
        "trusted": true
      },
      "cell_type": "code",
      "source": "# Converting A2 and A14 variables to numeric\ndf['A2'] = pd.to_numeric(df.A2, errors='coerce')\ndf['A14'] = pd.to_numeric(df.A14, errors='coerce')\ndf.dtypes",
      "execution_count": 5,
      "outputs": [
        {
          "output_type": "execute_result",
          "execution_count": 5,
          "data": {
            "text/plain": "A1      object\nA2     float64\nA3     float64\nA4      object\nA5      object\nA6      object\nA7      object\nA8     float64\nA9      object\nA10     object\nA11      int64\nA12     object\nA13     object\nA14    float64\nA15      int64\nA16     object\ndtype: object"
          },
          "metadata": {}
        }
      ]
    },
    {
      "metadata": {
        "trusted": true
      },
      "cell_type": "code",
      "source": "# Removing extra white space in categorical columns\ncategorical_cols = df.columns[df.dtypes == np.object].tolist()\nfor col in categorical_cols:\n    df[col] = df[col].str.strip()",
      "execution_count": 6,
      "outputs": []
    },
    {
      "metadata": {},
      "cell_type": "markdown",
      "source": "### Handling data quality issues \n<a name=\"Data_quality_issues\"></a>\nDetecting outliers and unusual values using descriptive statistics."
    },
    {
      "metadata": {
        "trusted": true
      },
      "cell_type": "code",
      "source": "df.describe(include = np.object) # Categorical variables - summary statistics",
      "execution_count": 7,
      "outputs": [
        {
          "output_type": "execute_result",
          "execution_count": 7,
          "data": {
            "text/html": "<div>\n<style scoped>\n    .dataframe tbody tr th:only-of-type {\n        vertical-align: middle;\n    }\n\n    .dataframe tbody tr th {\n        vertical-align: top;\n    }\n\n    .dataframe thead th {\n        text-align: right;\n    }\n</style>\n<table border=\"1\" class=\"dataframe\">\n  <thead>\n    <tr style=\"text-align: right;\">\n      <th></th>\n      <th>A1</th>\n      <th>A4</th>\n      <th>A5</th>\n      <th>A6</th>\n      <th>A7</th>\n      <th>A9</th>\n      <th>A10</th>\n      <th>A12</th>\n      <th>A13</th>\n      <th>A16</th>\n    </tr>\n  </thead>\n  <tbody>\n    <tr>\n      <th>count</th>\n      <td>690</td>\n      <td>690</td>\n      <td>690</td>\n      <td>690</td>\n      <td>690</td>\n      <td>690</td>\n      <td>690</td>\n      <td>690</td>\n      <td>690</td>\n      <td>690</td>\n    </tr>\n    <tr>\n      <th>unique</th>\n      <td>3</td>\n      <td>4</td>\n      <td>4</td>\n      <td>15</td>\n      <td>10</td>\n      <td>2</td>\n      <td>2</td>\n      <td>2</td>\n      <td>3</td>\n      <td>2</td>\n    </tr>\n    <tr>\n      <th>top</th>\n      <td>b</td>\n      <td>u</td>\n      <td>g</td>\n      <td>c</td>\n      <td>v</td>\n      <td>t</td>\n      <td>f</td>\n      <td>f</td>\n      <td>g</td>\n      <td>-</td>\n    </tr>\n    <tr>\n      <th>freq</th>\n      <td>468</td>\n      <td>519</td>\n      <td>519</td>\n      <td>137</td>\n      <td>399</td>\n      <td>361</td>\n      <td>395</td>\n      <td>374</td>\n      <td>625</td>\n      <td>383</td>\n    </tr>\n  </tbody>\n</table>\n</div>",
            "text/plain": "         A1   A4   A5   A6   A7   A9  A10  A12  A13  A16\ncount   690  690  690  690  690  690  690  690  690  690\nunique    3    4    4   15   10    2    2    2    3    2\ntop       b    u    g    c    v    t    f    f    g    -\nfreq    468  519  519  137  399  361  395  374  625  383"
          },
          "metadata": {}
        }
      ]
    },
    {
      "metadata": {},
      "cell_type": "markdown",
      "source": "Acording to the attribute information in crx.names, some attributes should have fewer unique categories rather than the table above (i.e the original data set). Eg: 'A1'- 2 categories, etc."
    },
    {
      "metadata": {
        "trusted": true
      },
      "cell_type": "code",
      "source": "df.describe(include = np.number).round(2) # Numerical variables  - summary statistics",
      "execution_count": 8,
      "outputs": [
        {
          "output_type": "execute_result",
          "execution_count": 8,
          "data": {
            "text/html": "<div>\n<style scoped>\n    .dataframe tbody tr th:only-of-type {\n        vertical-align: middle;\n    }\n\n    .dataframe tbody tr th {\n        vertical-align: top;\n    }\n\n    .dataframe thead th {\n        text-align: right;\n    }\n</style>\n<table border=\"1\" class=\"dataframe\">\n  <thead>\n    <tr style=\"text-align: right;\">\n      <th></th>\n      <th>A2</th>\n      <th>A3</th>\n      <th>A8</th>\n      <th>A11</th>\n      <th>A14</th>\n      <th>A15</th>\n    </tr>\n  </thead>\n  <tbody>\n    <tr>\n      <th>count</th>\n      <td>678.00</td>\n      <td>690.00</td>\n      <td>690.00</td>\n      <td>690.00</td>\n      <td>677.00</td>\n      <td>690.00</td>\n    </tr>\n    <tr>\n      <th>mean</th>\n      <td>31.57</td>\n      <td>4.76</td>\n      <td>2.22</td>\n      <td>2.40</td>\n      <td>184.01</td>\n      <td>1017.39</td>\n    </tr>\n    <tr>\n      <th>std</th>\n      <td>11.96</td>\n      <td>4.98</td>\n      <td>3.35</td>\n      <td>4.86</td>\n      <td>173.81</td>\n      <td>5210.10</td>\n    </tr>\n    <tr>\n      <th>min</th>\n      <td>13.75</td>\n      <td>0.00</td>\n      <td>0.00</td>\n      <td>0.00</td>\n      <td>0.00</td>\n      <td>0.00</td>\n    </tr>\n    <tr>\n      <th>25%</th>\n      <td>22.60</td>\n      <td>1.00</td>\n      <td>0.16</td>\n      <td>0.00</td>\n      <td>75.00</td>\n      <td>0.00</td>\n    </tr>\n    <tr>\n      <th>50%</th>\n      <td>28.46</td>\n      <td>2.75</td>\n      <td>1.00</td>\n      <td>0.00</td>\n      <td>160.00</td>\n      <td>5.00</td>\n    </tr>\n    <tr>\n      <th>75%</th>\n      <td>38.23</td>\n      <td>7.21</td>\n      <td>2.62</td>\n      <td>3.00</td>\n      <td>276.00</td>\n      <td>395.50</td>\n    </tr>\n    <tr>\n      <th>max</th>\n      <td>80.25</td>\n      <td>28.00</td>\n      <td>28.50</td>\n      <td>67.00</td>\n      <td>2000.00</td>\n      <td>100000.00</td>\n    </tr>\n  </tbody>\n</table>\n</div>",
            "text/plain": "           A2      A3      A8     A11      A14        A15\ncount  678.00  690.00  690.00  690.00   677.00     690.00\nmean    31.57    4.76    2.22    2.40   184.01    1017.39\nstd     11.96    4.98    3.35    4.86   173.81    5210.10\nmin     13.75    0.00    0.00    0.00     0.00       0.00\n25%     22.60    1.00    0.16    0.00    75.00       0.00\n50%     28.46    2.75    1.00    0.00   160.00       5.00\n75%     38.23    7.21    2.62    3.00   276.00     395.50\nmax     80.25   28.00   28.50   67.00  2000.00  100000.00"
          },
          "metadata": {}
        }
      ]
    },
    {
      "metadata": {
        "trusted": true
      },
      "cell_type": "code",
      "source": "df.isna().sum() # Number of missing values before assigning outliers of categorical variables as missing values",
      "execution_count": 9,
      "outputs": [
        {
          "output_type": "execute_result",
          "execution_count": 9,
          "data": {
            "text/plain": "A1      0\nA2     12\nA3      0\nA4      0\nA5      0\nA6      0\nA7      0\nA8      0\nA9      0\nA10     0\nA11     0\nA12     0\nA13     0\nA14    13\nA15     0\nA16     0\ndtype: int64"
          },
          "metadata": {}
        }
      ]
    },
    {
      "metadata": {
        "trusted": true
      },
      "cell_type": "code",
      "source": "df['A4'].value_counts()  #A4-?, A5-?, A6-?, A7?",
      "execution_count": 10,
      "outputs": [
        {
          "output_type": "execute_result",
          "execution_count": 10,
          "data": {
            "text/plain": "u    519\ny    163\n?      6\nl      2\nName: A4, dtype: int64"
          },
          "metadata": {}
        }
      ]
    },
    {
      "metadata": {},
      "cell_type": "markdown",
      "source": "#### Relabelling unusual values ('?') as missing values."
    },
    {
      "metadata": {
        "trusted": true
      },
      "cell_type": "code",
      "source": "df.replace(['?'], np.nan, inplace=True) # Setting '?' to missing values(NaN) - Categorical data\ndf.isna().sum()\n#df.nunique(dropna=True) # New count of unique values",
      "execution_count": 11,
      "outputs": [
        {
          "output_type": "execute_result",
          "execution_count": 11,
          "data": {
            "text/plain": "A1     12\nA2     12\nA3      0\nA4      6\nA5      6\nA6      9\nA7      9\nA8      0\nA9      0\nA10     0\nA11     0\nA12     0\nA13     0\nA14    13\nA15     0\nA16     0\ndtype: int64"
          },
          "metadata": {}
        }
      ]
    },
    {
      "metadata": {},
      "cell_type": "markdown",
      "source": "#### Outliers in numerical Variables"
    },
    {
      "metadata": {
        "trusted": true
      },
      "cell_type": "code",
      "source": "%matplotlib inline \n%config InlineBackend.figure_format = 'retina'\nplt.style.use(\"ggplot\")\n\ndf.boxplot(column=['A2','A3','A8']);",
      "execution_count": 12,
      "outputs": [
        {
          "output_type": "display_data",
          "data": {
            "image/png": "[encoded data removed]",
            "text/plain": "<Figure size 432x288 with 1 Axes>"
          },
          "metadata": {
            "image/png": {
              "width": 370,
              "height": 250
            }
          }
        }
      ]
    },
    {
      "metadata": {},
      "cell_type": "markdown",
      "source": "The above boxplots depicts considerable amount of outliers (>5%). Since these attributes are anonimous, the outliers will be kept without any change."
    },
    {
      "metadata": {},
      "cell_type": "markdown",
      "source": "#### Imputing missing values\n\n- Missing values in categorical variables will be imputted with mode of the variable.\n- Missing values in numerical variables will be imputted with median of the variable, as median is not sensitive to the outliers. If we use mean for the imputation, it will change the distribution of the variable."
    },
    {
      "metadata": {
        "trusted": true
      },
      "cell_type": "code",
      "source": "df_A = df.copy()\n\ncategorical_cols = df_A.columns[df_A.dtypes == np.object].tolist()\nnumerical_cols = df_A.columns[df_A.dtypes == np.number].tolist()\n\nfor col in categorical_cols:\n     df_A[col] = df_A[col].fillna(value = df_A[col].mode()[0]) # Mode imputation to categorical missing values\n\nfor col in numerical_cols:\n    df_A[col] = df_A[col].fillna(df_A[col].median()) # Median imputation to numerical missing values\n\ndf_A.isna().sum() # Checking the null value count of the imputed data frame",
      "execution_count": 13,
      "outputs": [
        {
          "output_type": "execute_result",
          "execution_count": 13,
          "data": {
            "text/plain": "A1     0\nA2     0\nA3     0\nA4     0\nA5     0\nA6     0\nA7     0\nA8     0\nA9     0\nA10    0\nA11    0\nA12    0\nA13    0\nA14    0\nA15    0\nA16    0\ndtype: int64"
          },
          "metadata": {}
        }
      ]
    },
    {
      "metadata": {},
      "cell_type": "markdown",
      "source": "### Discretizing 'A2' \n<a name=\"Discretizing_'A2'\"></a>"
    },
    {
      "metadata": {
        "trusted": true
      },
      "cell_type": "code",
      "source": "df_copy= df_A.copy() #Copying the imputed data frame\n\ndf_copy['A2'] = pd.qcut(df_copy['A2'], q=3, labels=['law', 'medium', 'high']) # Discretizing 'A2' via equal-frequency binning with 3 bins\ndf_copy['A2'].value_counts()",
      "execution_count": 14,
      "outputs": [
        {
          "output_type": "execute_result",
          "execution_count": 14,
          "data": {
            "text/plain": "medium    231\nlaw       230\nhigh      229\nName: A2, dtype: int64"
          },
          "metadata": {}
        }
      ]
    },
    {
      "metadata": {
        "trusted": true
      },
      "cell_type": "code",
      "source": "#Integer encoding\nlevel_mapping = {'law': 0, 'medium': 1, 'high': 2}\ndf_copy['A2'] = df_copy['A2'].replace(level_mapping)\ndf_copy.head(10)",
      "execution_count": 15,
      "outputs": [
        {
          "output_type": "execute_result",
          "execution_count": 15,
          "data": {
            "text/html": "<div>\n<style scoped>\n    .dataframe tbody tr th:only-of-type {\n        vertical-align: middle;\n    }\n\n    .dataframe tbody tr th {\n        vertical-align: top;\n    }\n\n    .dataframe thead th {\n        text-align: right;\n    }\n</style>\n<table border=\"1\" class=\"dataframe\">\n  <thead>\n    <tr style=\"text-align: right;\">\n      <th></th>\n      <th>A1</th>\n      <th>A2</th>\n      <th>A3</th>\n      <th>A4</th>\n      <th>A5</th>\n      <th>A6</th>\n      <th>A7</th>\n      <th>A8</th>\n      <th>A9</th>\n      <th>A10</th>\n      <th>A11</th>\n      <th>A12</th>\n      <th>A13</th>\n      <th>A14</th>\n      <th>A15</th>\n      <th>A16</th>\n    </tr>\n  </thead>\n  <tbody>\n    <tr>\n      <th>0</th>\n      <td>b</td>\n      <td>1</td>\n      <td>0.000</td>\n      <td>u</td>\n      <td>g</td>\n      <td>w</td>\n      <td>v</td>\n      <td>1.250</td>\n      <td>t</td>\n      <td>t</td>\n      <td>1</td>\n      <td>f</td>\n      <td>g</td>\n      <td>202.0</td>\n      <td>0</td>\n      <td>+</td>\n    </tr>\n    <tr>\n      <th>1</th>\n      <td>a</td>\n      <td>2</td>\n      <td>4.460</td>\n      <td>u</td>\n      <td>g</td>\n      <td>q</td>\n      <td>h</td>\n      <td>3.040</td>\n      <td>t</td>\n      <td>t</td>\n      <td>6</td>\n      <td>f</td>\n      <td>g</td>\n      <td>43.0</td>\n      <td>560</td>\n      <td>+</td>\n    </tr>\n    <tr>\n      <th>2</th>\n      <td>a</td>\n      <td>1</td>\n      <td>0.500</td>\n      <td>u</td>\n      <td>g</td>\n      <td>q</td>\n      <td>h</td>\n      <td>1.500</td>\n      <td>t</td>\n      <td>f</td>\n      <td>0</td>\n      <td>f</td>\n      <td>g</td>\n      <td>280.0</td>\n      <td>824</td>\n      <td>+</td>\n    </tr>\n    <tr>\n      <th>3</th>\n      <td>b</td>\n      <td>1</td>\n      <td>1.540</td>\n      <td>u</td>\n      <td>g</td>\n      <td>w</td>\n      <td>v</td>\n      <td>3.750</td>\n      <td>t</td>\n      <td>t</td>\n      <td>5</td>\n      <td>t</td>\n      <td>g</td>\n      <td>100.0</td>\n      <td>3</td>\n      <td>+</td>\n    </tr>\n    <tr>\n      <th>4</th>\n      <td>b</td>\n      <td>0</td>\n      <td>5.625</td>\n      <td>u</td>\n      <td>g</td>\n      <td>w</td>\n      <td>v</td>\n      <td>1.710</td>\n      <td>t</td>\n      <td>f</td>\n      <td>0</td>\n      <td>f</td>\n      <td>s</td>\n      <td>120.0</td>\n      <td>0</td>\n      <td>+</td>\n    </tr>\n    <tr>\n      <th>5</th>\n      <td>b</td>\n      <td>1</td>\n      <td>4.000</td>\n      <td>u</td>\n      <td>g</td>\n      <td>m</td>\n      <td>v</td>\n      <td>2.500</td>\n      <td>t</td>\n      <td>f</td>\n      <td>0</td>\n      <td>t</td>\n      <td>g</td>\n      <td>360.0</td>\n      <td>0</td>\n      <td>+</td>\n    </tr>\n    <tr>\n      <th>6</th>\n      <td>b</td>\n      <td>1</td>\n      <td>1.040</td>\n      <td>u</td>\n      <td>g</td>\n      <td>r</td>\n      <td>h</td>\n      <td>6.500</td>\n      <td>t</td>\n      <td>f</td>\n      <td>0</td>\n      <td>t</td>\n      <td>g</td>\n      <td>164.0</td>\n      <td>31285</td>\n      <td>+</td>\n    </tr>\n    <tr>\n      <th>7</th>\n      <td>a</td>\n      <td>0</td>\n      <td>11.585</td>\n      <td>u</td>\n      <td>g</td>\n      <td>cc</td>\n      <td>v</td>\n      <td>0.040</td>\n      <td>t</td>\n      <td>f</td>\n      <td>0</td>\n      <td>f</td>\n      <td>g</td>\n      <td>80.0</td>\n      <td>1349</td>\n      <td>+</td>\n    </tr>\n    <tr>\n      <th>8</th>\n      <td>b</td>\n      <td>2</td>\n      <td>0.500</td>\n      <td>y</td>\n      <td>p</td>\n      <td>k</td>\n      <td>h</td>\n      <td>3.960</td>\n      <td>t</td>\n      <td>f</td>\n      <td>0</td>\n      <td>f</td>\n      <td>g</td>\n      <td>180.0</td>\n      <td>314</td>\n      <td>+</td>\n    </tr>\n    <tr>\n      <th>9</th>\n      <td>b</td>\n      <td>2</td>\n      <td>4.915</td>\n      <td>y</td>\n      <td>p</td>\n      <td>w</td>\n      <td>v</td>\n      <td>3.165</td>\n      <td>t</td>\n      <td>f</td>\n      <td>0</td>\n      <td>t</td>\n      <td>g</td>\n      <td>52.0</td>\n      <td>1442</td>\n      <td>+</td>\n    </tr>\n  </tbody>\n</table>\n</div>",
            "text/plain": "  A1  A2      A3 A4 A5  A6 A7     A8 A9 A10  A11 A12 A13    A14    A15 A16\n0  b   1   0.000  u  g   w  v  1.250  t   t    1   f   g  202.0      0   +\n1  a   2   4.460  u  g   q  h  3.040  t   t    6   f   g   43.0    560   +\n2  a   1   0.500  u  g   q  h  1.500  t   f    0   f   g  280.0    824   +\n3  b   1   1.540  u  g   w  v  3.750  t   t    5   t   g  100.0      3   +\n4  b   0   5.625  u  g   w  v  1.710  t   f    0   f   s  120.0      0   +\n5  b   1   4.000  u  g   m  v  2.500  t   f    0   t   g  360.0      0   +\n6  b   1   1.040  u  g   r  h  6.500  t   f    0   t   g  164.0  31285   +\n7  a   0  11.585  u  g  cc  v  0.040  t   f    0   f   g   80.0   1349   +\n8  b   2   0.500  y  p   k  h  3.960  t   f    0   f   g  180.0    314   +\n9  b   2   4.915  y  p   w  v  3.165  t   f    0   t   g   52.0   1442   +"
          },
          "metadata": {}
        }
      ]
    },
    {
      "metadata": {},
      "cell_type": "markdown",
      "source": "### Normalization - Standard scaling \n<a name=\"Normalization\"></a>"
    },
    {
      "metadata": {
        "trusted": true
      },
      "cell_type": "code",
      "source": "Data_scaler = preprocessing.StandardScaler()\n\ndf_norm = df_copy.copy()\nnumerical_cols = df_norm.select_dtypes(include=np.number)\n\nfor col in numerical_cols: # Only the numerical attributes can be normalized\n    df_norm[col] = pd.DataFrame(Data_scaler.fit_transform(pd.DataFrame(df_norm[col])),columns=[col])\n\ndf_norm.describe(include = np.number).round(2)",
      "execution_count": 16,
      "outputs": [
        {
          "output_type": "execute_result",
          "execution_count": 16,
          "data": {
            "text/html": "<div>\n<style scoped>\n    .dataframe tbody tr th:only-of-type {\n        vertical-align: middle;\n    }\n\n    .dataframe tbody tr th {\n        vertical-align: top;\n    }\n\n    .dataframe thead th {\n        text-align: right;\n    }\n</style>\n<table border=\"1\" class=\"dataframe\">\n  <thead>\n    <tr style=\"text-align: right;\">\n      <th></th>\n      <th>A2</th>\n      <th>A3</th>\n      <th>A8</th>\n      <th>A11</th>\n      <th>A14</th>\n      <th>A15</th>\n    </tr>\n  </thead>\n  <tbody>\n    <tr>\n      <th>count</th>\n      <td>690.00</td>\n      <td>690.00</td>\n      <td>690.00</td>\n      <td>690.00</td>\n      <td>690.00</td>\n      <td>690.00</td>\n    </tr>\n    <tr>\n      <th>mean</th>\n      <td>-0.00</td>\n      <td>0.00</td>\n      <td>0.00</td>\n      <td>0.00</td>\n      <td>0.00</td>\n      <td>-0.00</td>\n    </tr>\n    <tr>\n      <th>std</th>\n      <td>1.00</td>\n      <td>1.00</td>\n      <td>1.00</td>\n      <td>1.00</td>\n      <td>1.00</td>\n      <td>1.00</td>\n    </tr>\n    <tr>\n      <th>min</th>\n      <td>-1.22</td>\n      <td>-0.96</td>\n      <td>-0.66</td>\n      <td>-0.49</td>\n      <td>-1.07</td>\n      <td>-0.20</td>\n    </tr>\n    <tr>\n      <th>25%</th>\n      <td>-1.22</td>\n      <td>-0.76</td>\n      <td>-0.62</td>\n      <td>-0.49</td>\n      <td>-0.60</td>\n      <td>-0.20</td>\n    </tr>\n    <tr>\n      <th>50%</th>\n      <td>0.00</td>\n      <td>-0.40</td>\n      <td>-0.37</td>\n      <td>-0.49</td>\n      <td>-0.14</td>\n      <td>-0.19</td>\n    </tr>\n    <tr>\n      <th>75%</th>\n      <td>1.23</td>\n      <td>0.49</td>\n      <td>0.12</td>\n      <td>0.12</td>\n      <td>0.51</td>\n      <td>-0.12</td>\n    </tr>\n    <tr>\n      <th>max</th>\n      <td>1.23</td>\n      <td>4.67</td>\n      <td>7.86</td>\n      <td>13.29</td>\n      <td>10.56</td>\n      <td>19.01</td>\n    </tr>\n  </tbody>\n</table>\n</div>",
            "text/plain": "           A2      A3      A8     A11     A14     A15\ncount  690.00  690.00  690.00  690.00  690.00  690.00\nmean    -0.00    0.00    0.00    0.00    0.00   -0.00\nstd      1.00    1.00    1.00    1.00    1.00    1.00\nmin     -1.22   -0.96   -0.66   -0.49   -1.07   -0.20\n25%     -1.22   -0.76   -0.62   -0.49   -0.60   -0.20\n50%      0.00   -0.40   -0.37   -0.49   -0.14   -0.19\n75%      1.23    0.49    0.12    0.12    0.51   -0.12\nmax      1.23    4.67    7.86   13.29   10.56   19.01"
          },
          "metadata": {}
        }
      ]
    },
    {
      "metadata": {},
      "cell_type": "markdown",
      "source": "### Labeling the last column as 'target' \n<a name=\"Labeling_'target'\"></a>"
    },
    {
      "metadata": {
        "trusted": true
      },
      "cell_type": "code",
      "source": "df_final = df_norm.copy()\ndf_final = df_final.rename({'A16':'target'}, axis = 1)",
      "execution_count": 17,
      "outputs": []
    },
    {
      "metadata": {},
      "cell_type": "markdown",
      "source": "### Renaming the preprocessed data set and checking the summary \n<a name=\"Renaming_dataset\"></a>"
    },
    {
      "metadata": {
        "trusted": true
      },
      "cell_type": "code",
      "source": "df_clean = df_final.copy()\ndf_clean.shape\ndf_clean.describe(include='all').round(3) \ndf_clean.head(5)",
      "execution_count": 18,
      "outputs": [
        {
          "output_type": "execute_result",
          "execution_count": 18,
          "data": {
            "text/html": "<div>\n<style scoped>\n    .dataframe tbody tr th:only-of-type {\n        vertical-align: middle;\n    }\n\n    .dataframe tbody tr th {\n        vertical-align: top;\n    }\n\n    .dataframe thead th {\n        text-align: right;\n    }\n</style>\n<table border=\"1\" class=\"dataframe\">\n  <thead>\n    <tr style=\"text-align: right;\">\n      <th></th>\n      <th>A1</th>\n      <th>A2</th>\n      <th>A3</th>\n      <th>A4</th>\n      <th>A5</th>\n      <th>A6</th>\n      <th>A7</th>\n      <th>A8</th>\n      <th>A9</th>\n      <th>A10</th>\n      <th>A11</th>\n      <th>A12</th>\n      <th>A13</th>\n      <th>A14</th>\n      <th>A15</th>\n      <th>target</th>\n    </tr>\n  </thead>\n  <tbody>\n    <tr>\n      <th>0</th>\n      <td>b</td>\n      <td>0.001777</td>\n      <td>-0.956613</td>\n      <td>u</td>\n      <td>g</td>\n      <td>w</td>\n      <td>v</td>\n      <td>-0.291083</td>\n      <td>t</td>\n      <td>t</td>\n      <td>-0.288101</td>\n      <td>f</td>\n      <td>g</td>\n      <td>0.107155</td>\n      <td>-0.195413</td>\n      <td>+</td>\n    </tr>\n    <tr>\n      <th>1</th>\n      <td>a</td>\n      <td>1.227857</td>\n      <td>-0.060051</td>\n      <td>u</td>\n      <td>g</td>\n      <td>q</td>\n      <td>h</td>\n      <td>0.244190</td>\n      <td>t</td>\n      <td>t</td>\n      <td>0.740830</td>\n      <td>f</td>\n      <td>g</td>\n      <td>-0.816912</td>\n      <td>-0.087852</td>\n      <td>+</td>\n    </tr>\n    <tr>\n      <th>2</th>\n      <td>a</td>\n      <td>0.001777</td>\n      <td>-0.856102</td>\n      <td>u</td>\n      <td>g</td>\n      <td>q</td>\n      <td>h</td>\n      <td>-0.216324</td>\n      <td>t</td>\n      <td>f</td>\n      <td>-0.493887</td>\n      <td>f</td>\n      <td>g</td>\n      <td>0.560471</td>\n      <td>-0.037144</td>\n      <td>+</td>\n    </tr>\n    <tr>\n      <th>3</th>\n      <td>b</td>\n      <td>0.001777</td>\n      <td>-0.647038</td>\n      <td>u</td>\n      <td>g</td>\n      <td>w</td>\n      <td>v</td>\n      <td>0.456505</td>\n      <td>t</td>\n      <td>t</td>\n      <td>0.535044</td>\n      <td>t</td>\n      <td>g</td>\n      <td>-0.485643</td>\n      <td>-0.194837</td>\n      <td>+</td>\n    </tr>\n    <tr>\n      <th>4</th>\n      <td>b</td>\n      <td>-1.224303</td>\n      <td>0.174141</td>\n      <td>u</td>\n      <td>g</td>\n      <td>w</td>\n      <td>v</td>\n      <td>-0.153526</td>\n      <td>t</td>\n      <td>f</td>\n      <td>-0.493887</td>\n      <td>f</td>\n      <td>s</td>\n      <td>-0.369408</td>\n      <td>-0.195413</td>\n      <td>+</td>\n    </tr>\n  </tbody>\n</table>\n</div>",
            "text/plain": "  A1        A2        A3 A4 A5 A6 A7        A8 A9 A10       A11 A12 A13  \\\n0  b  0.001777 -0.956613  u  g  w  v -0.291083  t   t -0.288101   f   g   \n1  a  1.227857 -0.060051  u  g  q  h  0.244190  t   t  0.740830   f   g   \n2  a  0.001777 -0.856102  u  g  q  h -0.216324  t   f -0.493887   f   g   \n3  b  0.001777 -0.647038  u  g  w  v  0.456505  t   t  0.535044   t   g   \n4  b -1.224303  0.174141  u  g  w  v -0.153526  t   f -0.493887   f   s   \n\n        A14       A15 target  \n0  0.107155 -0.195413      +  \n1 -0.816912 -0.087852      +  \n2  0.560471 -0.037144      +  \n3 -0.485643 -0.194837      +  \n4 -0.369408 -0.195413      +  "
          },
          "metadata": {}
        }
      ]
    },
    {
      "metadata": {
        "trusted": true
      },
      "cell_type": "markdown",
      "source": "### Saving the data set as a csv file \n<a name=\"Saving_dataset\"></a>"
    },
    {
      "metadata": {
        "trusted": true
      },
      "cell_type": "code",
      "source": "df_clean.to_csv('df_clean.csv',index = False, header=True)",
      "execution_count": 19,
      "outputs": []
    },
    {
      "metadata": {
        "trusted": true
      },
      "cell_type": "markdown",
      "source": "\n\n\n## Question 2\n\n## Tasks\n- [Loading the data](#Loading_data)\n- [Constructing KNN algorithm](#Constructing_KNN_algorithm)\n\n    a. [3-nearest neighbor prediction for CPI Value](#3-NN_prediction)\n\n    b. [Weighted k-NN with k=16](#Weighted_16-NN)\n\n    c. [Predicting with normalized data](#Predicting_with_normalized_data)\n\n    d. [Weighted k-NN with k=16 for normalized data](#Weighted_16-NN_normalized_data)\n\n    e. [Conclusions](#Conclusions)"
    },
    {
      "metadata": {},
      "cell_type": "markdown",
      "source": "### Loading data <a name=\"Loading_Data\"></a>"
    },
    {
      "metadata": {
        "trusted": true
      },
      "cell_type": "code",
      "source": "df= pd.read_csv(\"Asignment1_Q2.csv\")\ndf.shape",
      "execution_count": 20,
      "outputs": [
        {
          "output_type": "execute_result",
          "execution_count": 20,
          "data": {
            "text/plain": "(17, 7)"
          },
          "metadata": {}
        }
      ]
    },
    {
      "metadata": {
        "trusted": true
      },
      "cell_type": "code",
      "source": "df",
      "execution_count": 21,
      "outputs": [
        {
          "output_type": "execute_result",
          "execution_count": 21,
          "data": {
            "text/html": "<div>\n<style scoped>\n    .dataframe tbody tr th:only-of-type {\n        vertical-align: middle;\n    }\n\n    .dataframe tbody tr th {\n        vertical-align: top;\n    }\n\n    .dataframe thead th {\n        text-align: right;\n    }\n</style>\n<table border=\"1\" class=\"dataframe\">\n  <thead>\n    <tr style=\"text-align: right;\">\n      <th></th>\n      <th>COUNTRY_ID</th>\n      <th>LIFE_EXP</th>\n      <th>TOP10_INCOME</th>\n      <th>INFANT_MORT</th>\n      <th>MIL_SPEND</th>\n      <th>SCHOOL_YEARS</th>\n      <th>CPI</th>\n    </tr>\n  </thead>\n  <tbody>\n    <tr>\n      <th>0</th>\n      <td>Afghanistan</td>\n      <td>59.61</td>\n      <td>23.21</td>\n      <td>74.3</td>\n      <td>4.44</td>\n      <td>0.4</td>\n      <td>1.5171</td>\n    </tr>\n    <tr>\n      <th>1</th>\n      <td>Haiti</td>\n      <td>45.00</td>\n      <td>47.67</td>\n      <td>73.1</td>\n      <td>0.09</td>\n      <td>3.4</td>\n      <td>1.7999</td>\n    </tr>\n    <tr>\n      <th>2</th>\n      <td>Nigeria</td>\n      <td>51.30</td>\n      <td>38.23</td>\n      <td>82.6</td>\n      <td>1.07</td>\n      <td>4.1</td>\n      <td>2.4493</td>\n    </tr>\n    <tr>\n      <th>3</th>\n      <td>Egypt</td>\n      <td>70.48</td>\n      <td>26.58</td>\n      <td>19.6</td>\n      <td>1.86</td>\n      <td>5.3</td>\n      <td>2.8622</td>\n    </tr>\n    <tr>\n      <th>4</th>\n      <td>Argentina</td>\n      <td>75.77</td>\n      <td>32.30</td>\n      <td>13.3</td>\n      <td>0.76</td>\n      <td>10.1</td>\n      <td>2.9961</td>\n    </tr>\n    <tr>\n      <th>5</th>\n      <td>China</td>\n      <td>74.87</td>\n      <td>29.98</td>\n      <td>13.7</td>\n      <td>1.95</td>\n      <td>6.4</td>\n      <td>3.6356</td>\n    </tr>\n    <tr>\n      <th>6</th>\n      <td>Brazil</td>\n      <td>73.12</td>\n      <td>42.93</td>\n      <td>14.5</td>\n      <td>1.43</td>\n      <td>7.2</td>\n      <td>3.7741</td>\n    </tr>\n    <tr>\n      <th>7</th>\n      <td>Israel</td>\n      <td>81.30</td>\n      <td>28.80</td>\n      <td>3.6</td>\n      <td>6.77</td>\n      <td>12.5</td>\n      <td>5.8069</td>\n    </tr>\n    <tr>\n      <th>8</th>\n      <td>U.S.A</td>\n      <td>78.51</td>\n      <td>29.85</td>\n      <td>6.3</td>\n      <td>4.72</td>\n      <td>13.7</td>\n      <td>7.1357</td>\n    </tr>\n    <tr>\n      <th>9</th>\n      <td>Ireland</td>\n      <td>80.15</td>\n      <td>27.23</td>\n      <td>3.5</td>\n      <td>0.60</td>\n      <td>11.5</td>\n      <td>7.536</td>\n    </tr>\n    <tr>\n      <th>10</th>\n      <td>U.K.</td>\n      <td>80.09</td>\n      <td>28.49</td>\n      <td>4.4</td>\n      <td>2.59</td>\n      <td>13.0</td>\n      <td>7.7751</td>\n    </tr>\n    <tr>\n      <th>11</th>\n      <td>Germany</td>\n      <td>80.24</td>\n      <td>22.07</td>\n      <td>3.5</td>\n      <td>1.31</td>\n      <td>12.0</td>\n      <td>8.0461</td>\n    </tr>\n    <tr>\n      <th>12</th>\n      <td>Canada</td>\n      <td>80.99</td>\n      <td>24.79</td>\n      <td>4.9</td>\n      <td>1.42</td>\n      <td>14.2</td>\n      <td>8.6725</td>\n    </tr>\n    <tr>\n      <th>13</th>\n      <td>Australia</td>\n      <td>82.09</td>\n      <td>25.40</td>\n      <td>4.2</td>\n      <td>1.86</td>\n      <td>11.5</td>\n      <td>8.8442</td>\n    </tr>\n    <tr>\n      <th>14</th>\n      <td>Sweden</td>\n      <td>81.43</td>\n      <td>22.18</td>\n      <td>2.4</td>\n      <td>1.27</td>\n      <td>12.8</td>\n      <td>9.2985</td>\n    </tr>\n    <tr>\n      <th>15</th>\n      <td>New Zealand</td>\n      <td>80.67</td>\n      <td>27.81</td>\n      <td>4.9</td>\n      <td>1.13</td>\n      <td>12.3</td>\n      <td>9.4627</td>\n    </tr>\n    <tr>\n      <th>16</th>\n      <td>Russia</td>\n      <td>67.62</td>\n      <td>31.68</td>\n      <td>10.0</td>\n      <td>3.87</td>\n      <td>12.9</td>\n      <td>?</td>\n    </tr>\n  </tbody>\n</table>\n</div>",
            "text/plain": "     COUNTRY_ID  LIFE_EXP  TOP10_INCOME  INFANT_MORT  MIL_SPEND  SCHOOL_YEARS  \\\n0   Afghanistan     59.61         23.21         74.3       4.44           0.4   \n1         Haiti     45.00         47.67         73.1       0.09           3.4   \n2       Nigeria     51.30         38.23         82.6       1.07           4.1   \n3         Egypt     70.48         26.58         19.6       1.86           5.3   \n4     Argentina     75.77         32.30         13.3       0.76          10.1   \n5         China     74.87         29.98         13.7       1.95           6.4   \n6        Brazil     73.12         42.93         14.5       1.43           7.2   \n7        Israel     81.30         28.80          3.6       6.77          12.5   \n8         U.S.A     78.51         29.85          6.3       4.72          13.7   \n9       Ireland     80.15         27.23          3.5       0.60          11.5   \n10         U.K.     80.09         28.49          4.4       2.59          13.0   \n11      Germany     80.24         22.07          3.5       1.31          12.0   \n12       Canada     80.99         24.79          4.9       1.42          14.2   \n13    Australia     82.09         25.40          4.2       1.86          11.5   \n14       Sweden     81.43         22.18          2.4       1.27          12.8   \n15  New Zealand     80.67         27.81          4.9       1.13          12.3   \n16       Russia     67.62         31.68         10.0       3.87          12.9   \n\n       CPI  \n0   1.5171  \n1   1.7999  \n2   2.4493  \n3   2.8622  \n4   2.9961  \n5   3.6356  \n6   3.7741  \n7   5.8069  \n8   7.1357  \n9    7.536  \n10  7.7751  \n11  8.0461  \n12  8.6725  \n13  8.8442  \n14  9.2985  \n15  9.4627  \n16       ?  "
          },
          "metadata": {}
        }
      ]
    },
    {
      "metadata": {
        "trusted": true
      },
      "cell_type": "code",
      "source": "df.dtypes",
      "execution_count": 22,
      "outputs": [
        {
          "output_type": "execute_result",
          "execution_count": 22,
          "data": {
            "text/plain": "COUNTRY_ID       object\nLIFE_EXP        float64\nTOP10_INCOME    float64\nINFANT_MORT     float64\nMIL_SPEND       float64\nSCHOOL_YEARS    float64\nCPI              object\ndtype: object"
          },
          "metadata": {}
        }
      ]
    },
    {
      "metadata": {
        "trusted": true
      },
      "cell_type": "code",
      "source": "df['CPI'] = pd.to_numeric(df.CPI, errors='coerce')\ndf.dtypes",
      "execution_count": 23,
      "outputs": [
        {
          "output_type": "execute_result",
          "execution_count": 23,
          "data": {
            "text/plain": "COUNTRY_ID       object\nLIFE_EXP        float64\nTOP10_INCOME    float64\nINFANT_MORT     float64\nMIL_SPEND       float64\nSCHOOL_YEARS    float64\nCPI             float64\ndtype: object"
          },
          "metadata": {}
        }
      ]
    },
    {
      "metadata": {
        "trusted": true
      },
      "cell_type": "code",
      "source": "df.describe()",
      "execution_count": 24,
      "outputs": [
        {
          "output_type": "execute_result",
          "execution_count": 24,
          "data": {
            "text/html": "<div>\n<style scoped>\n    .dataframe tbody tr th:only-of-type {\n        vertical-align: middle;\n    }\n\n    .dataframe tbody tr th {\n        vertical-align: top;\n    }\n\n    .dataframe thead th {\n        text-align: right;\n    }\n</style>\n<table border=\"1\" class=\"dataframe\">\n  <thead>\n    <tr style=\"text-align: right;\">\n      <th></th>\n      <th>LIFE_EXP</th>\n      <th>TOP10_INCOME</th>\n      <th>INFANT_MORT</th>\n      <th>MIL_SPEND</th>\n      <th>SCHOOL_YEARS</th>\n      <th>CPI</th>\n    </tr>\n  </thead>\n  <tbody>\n    <tr>\n      <th>count</th>\n      <td>17.000000</td>\n      <td>17.000000</td>\n      <td>17.000000</td>\n      <td>17.000000</td>\n      <td>17.000000</td>\n      <td>16.000000</td>\n    </tr>\n    <tr>\n      <th>mean</th>\n      <td>73.131765</td>\n      <td>29.952941</td>\n      <td>19.929412</td>\n      <td>2.184706</td>\n      <td>9.605882</td>\n      <td>5.725750</td>\n    </tr>\n    <tr>\n      <th>std</th>\n      <td>11.207660</td>\n      <td>7.078027</td>\n      <td>27.570019</td>\n      <td>1.765103</td>\n      <td>4.238288</td>\n      <td>2.917551</td>\n    </tr>\n    <tr>\n      <th>min</th>\n      <td>45.000000</td>\n      <td>22.070000</td>\n      <td>2.400000</td>\n      <td>0.090000</td>\n      <td>0.400000</td>\n      <td>1.517100</td>\n    </tr>\n    <tr>\n      <th>25%</th>\n      <td>70.480000</td>\n      <td>25.400000</td>\n      <td>4.200000</td>\n      <td>1.130000</td>\n      <td>6.400000</td>\n      <td>2.962625</td>\n    </tr>\n    <tr>\n      <th>50%</th>\n      <td>78.510000</td>\n      <td>28.490000</td>\n      <td>6.300000</td>\n      <td>1.430000</td>\n      <td>11.500000</td>\n      <td>6.471300</td>\n    </tr>\n    <tr>\n      <th>75%</th>\n      <td>80.670000</td>\n      <td>31.680000</td>\n      <td>14.500000</td>\n      <td>2.590000</td>\n      <td>12.800000</td>\n      <td>8.202700</td>\n    </tr>\n    <tr>\n      <th>max</th>\n      <td>82.090000</td>\n      <td>47.670000</td>\n      <td>82.600000</td>\n      <td>6.770000</td>\n      <td>14.200000</td>\n      <td>9.462700</td>\n    </tr>\n  </tbody>\n</table>\n</div>",
            "text/plain": "        LIFE_EXP  TOP10_INCOME  INFANT_MORT  MIL_SPEND  SCHOOL_YEARS  \\\ncount  17.000000     17.000000    17.000000  17.000000     17.000000   \nmean   73.131765     29.952941    19.929412   2.184706      9.605882   \nstd    11.207660      7.078027    27.570019   1.765103      4.238288   \nmin    45.000000     22.070000     2.400000   0.090000      0.400000   \n25%    70.480000     25.400000     4.200000   1.130000      6.400000   \n50%    78.510000     28.490000     6.300000   1.430000     11.500000   \n75%    80.670000     31.680000    14.500000   2.590000     12.800000   \nmax    82.090000     47.670000    82.600000   6.770000     14.200000   \n\n             CPI  \ncount  16.000000  \nmean    5.725750  \nstd     2.917551  \nmin     1.517100  \n25%     2.962625  \n50%     6.471300  \n75%     8.202700  \nmax     9.462700  "
          },
          "metadata": {}
        }
      ]
    },
    {
      "metadata": {},
      "cell_type": "markdown",
      "source": "The data set is considered to be a cleaned data set. In this question Corruption Perception Index (CPI) will be treated as the 'target' variable. Trainig data set is contains 16 data points (16 countries) and the test data set contains only 1 data point.\n\n\n\n### Constructing KNN algorithm  \n<a name=\"Constructing_KNN_algorithm\"></a>\nThe algorithm will be developed in three steps(functions);\n1. Function to compute Manhattan distance of two given points\n2. Function to find the nearest k neighbours\n3. Function to predict the target value using the k nearest neighbours\n\nThis function is defined to predict continuous target, hence the target column is required to have the format 'float'"
    },
    {
      "metadata": {
        "trusted": true
      },
      "cell_type": "code",
      "source": "# Function to compute Manhettan Distance between two points\ndef manhattan_distance(row1, row2):\n    \n    distance = 0.0\n    \n    for i in range(len(row1)-1): # Calculating distances among features, excluding target feature\n        distance += np.abs(row1[i] - row2[i])\n    \n    return (distance)",
      "execution_count": 25,
      "outputs": []
    },
    {
      "metadata": {
        "trusted": true
      },
      "cell_type": "code",
      "source": "# Function to pick the k nearest neighbours\ndef k_nearest_points(train, test, k):\n\n    target_distance = list()\n    \n    for train_row in train: # Calculating distances to all the points in the trainig data set\n        dist = manhattan_distance(test, train_row) \n        target_distance.append((train_row[-1], dist)) # A list of CPI value and the corresponding distance\n    \n    target_distance.sort(key=lambda x: x[1]) # sorting the distances list by distance\n    \n    neighbors = list()\n    \n    for i in range(k):    # Selecting the nearest k neighbours\n        neighbors.append(target_distance[i])\n    \n    return neighbors # returns a list of k number of elements in (CPI, distance) format",
      "execution_count": 26,
      "outputs": []
    },
    {
      "metadata": {
        "trusted": true
      },
      "cell_type": "code",
      "source": "def predict_CPI(train, test, k, weighted= False):\n    \n    neighbors = k_nearest_points(train, test, k)  # k nearest neighbours' CPI values\n    \n    CPI_sum = 0\n    \n    if not weighted : # calculating the average CPI of the k nearest neighbours\n        for i in range(k):\n            CPI_sum += neighbors[i][0]\n            \n        prediction = CPI_sum/k \n        \n    else: # calculating the weighted average CPI of the k nearest neighbours\n        weight_sum = 0\n        \n        for i in range(k):\n            CPI_sum += (neighbors[i][0]/neighbors[i][1]) # sum by weighting scheme of the reciprocal\n            weight_sum += (1/neighbors[i][1])\n            \n        prediction = CPI_sum/weight_sum\n        \n    return prediction",
      "execution_count": 27,
      "outputs": []
    },
    {
      "metadata": {
        "trusted": true
      },
      "cell_type": "code",
      "source": "# Creating training and testing data sets (matrix format)\ndf_features = df.drop(['COUNTRY_ID'],axis=1) # Selecting the feature set, including the target feature\n\nmat = df_features.as_matrix()\ntrain = np.delete(mat, -1, axis=0)\ntest = mat[-1, :]",
      "execution_count": 28,
      "outputs": []
    },
    {
      "metadata": {},
      "cell_type": "markdown",
      "source": "### (a) 3-nearest neighbor prediction for CPI Value \n<a name=\"3-NN_prediction\"></a>"
    },
    {
      "metadata": {
        "trusted": true
      },
      "cell_type": "code",
      "source": "a_neighbours = k_nearest_points(train, test, 3)\na = predict_CPI(train, test, 3)\n\nprint('CPIs and distances of the 3 nearest neighbours:\\n' , a_neighbours)\nprint()\nprint('Predicted CPI:' , a.round(2)) ",
      "execution_count": 29,
      "outputs": [
        {
          "output_type": "stream",
          "text": "CPIs and distances of the 3 nearest neighbours:\n [(2.9961, 17.97999999999999), (7.1357, 18.069999999999993), (3.6356, 21.07)]\n\nPredicted CPI: 4.59\n",
          "name": "stdout"
        }
      ]
    },
    {
      "metadata": {},
      "cell_type": "markdown",
      "source": "### (b) Weighted k-NN with k=16  <a name=\"Weighted_16-NN\"></a>"
    },
    {
      "metadata": {
        "trusted": true
      },
      "cell_type": "code",
      "source": "b_neighbours = k_nearest_points(train, test, 16)\nb = predict_CPI(train, test, 16, True)\n\nprint('CPIs and distances of the 16 nearest neighbours:\\n' , b_neighbours)\nprint()\nprint('Predicted CPI:' , b.round(2)) ",
      "execution_count": 30,
      "outputs": [
        {
          "output_type": "stream",
          "text": "CPIs and distances of the 16 nearest neighbours:\n [(2.9961, 17.97999999999999), (7.1357, 18.069999999999993), (3.6356, 21.07), (7.7751, 22.64), (9.4627, 25.36), (5.8069, 26.25999999999999), (2.8622, 27.17), (7.5360000000000005, 28.15), (8.6725, 29.109999999999992), (3.7741, 29.39), (8.8442, 29.96), (8.0461, 32.18999999999999), (9.2985, 33.61000000000001), (1.5171, 93.85), (2.4493, 107.07), (1.7999, 114.99000000000001)]\n\nPredicted CPI: 6.16\n",
          "name": "stdout"
        }
      ]
    },
    {
      "metadata": {},
      "cell_type": "markdown",
      "source": "### (c)  Predicting with normalized data <a name=\"Predicting_with_normalized_data\"></a>\n\n#### Normalizing the feature set\n\nTo model the Corruption Perception Index (CPI), all the numerical attributes will be considered as features. All of these variables will be normalized using range normalizing method. "
    },
    {
      "metadata": {
        "trusted": true
      },
      "cell_type": "code",
      "source": "df_Normalized = df.copy()\nData_scaler = preprocessing.MinMaxScaler() \n\nfeatures = ['LIFE_EXP','TOP10_INCOME','INFANT_MORT','MIL_SPEND','SCHOOL_YEARS']\n\nfor col in features: # All the features will be normalized\n     df_Normalized[col] = pd.DataFrame(Data_scaler.fit_transform(pd.DataFrame(df_Normalized[col])),columns=[col])\n\ndf_Normalized.describe(include = np.number).round(2)",
      "execution_count": 31,
      "outputs": [
        {
          "output_type": "execute_result",
          "execution_count": 31,
          "data": {
            "text/html": "<div>\n<style scoped>\n    .dataframe tbody tr th:only-of-type {\n        vertical-align: middle;\n    }\n\n    .dataframe tbody tr th {\n        vertical-align: top;\n    }\n\n    .dataframe thead th {\n        text-align: right;\n    }\n</style>\n<table border=\"1\" class=\"dataframe\">\n  <thead>\n    <tr style=\"text-align: right;\">\n      <th></th>\n      <th>LIFE_EXP</th>\n      <th>TOP10_INCOME</th>\n      <th>INFANT_MORT</th>\n      <th>MIL_SPEND</th>\n      <th>SCHOOL_YEARS</th>\n      <th>CPI</th>\n    </tr>\n  </thead>\n  <tbody>\n    <tr>\n      <th>count</th>\n      <td>17.00</td>\n      <td>17.00</td>\n      <td>17.00</td>\n      <td>17.00</td>\n      <td>17.00</td>\n      <td>16.00</td>\n    </tr>\n    <tr>\n      <th>mean</th>\n      <td>0.76</td>\n      <td>0.31</td>\n      <td>0.22</td>\n      <td>0.31</td>\n      <td>0.67</td>\n      <td>5.73</td>\n    </tr>\n    <tr>\n      <th>std</th>\n      <td>0.30</td>\n      <td>0.28</td>\n      <td>0.34</td>\n      <td>0.26</td>\n      <td>0.31</td>\n      <td>2.92</td>\n    </tr>\n    <tr>\n      <th>min</th>\n      <td>0.00</td>\n      <td>0.00</td>\n      <td>0.00</td>\n      <td>0.00</td>\n      <td>0.00</td>\n      <td>1.52</td>\n    </tr>\n    <tr>\n      <th>25%</th>\n      <td>0.69</td>\n      <td>0.13</td>\n      <td>0.02</td>\n      <td>0.16</td>\n      <td>0.43</td>\n      <td>2.96</td>\n    </tr>\n    <tr>\n      <th>50%</th>\n      <td>0.90</td>\n      <td>0.25</td>\n      <td>0.05</td>\n      <td>0.20</td>\n      <td>0.80</td>\n      <td>6.47</td>\n    </tr>\n    <tr>\n      <th>75%</th>\n      <td>0.96</td>\n      <td>0.38</td>\n      <td>0.15</td>\n      <td>0.37</td>\n      <td>0.90</td>\n      <td>8.20</td>\n    </tr>\n    <tr>\n      <th>max</th>\n      <td>1.00</td>\n      <td>1.00</td>\n      <td>1.00</td>\n      <td>1.00</td>\n      <td>1.00</td>\n      <td>9.46</td>\n    </tr>\n  </tbody>\n</table>\n</div>",
            "text/plain": "       LIFE_EXP  TOP10_INCOME  INFANT_MORT  MIL_SPEND  SCHOOL_YEARS    CPI\ncount     17.00         17.00        17.00      17.00         17.00  16.00\nmean       0.76          0.31         0.22       0.31          0.67   5.73\nstd        0.30          0.28         0.34       0.26          0.31   2.92\nmin        0.00          0.00         0.00       0.00          0.00   1.52\n25%        0.69          0.13         0.02       0.16          0.43   2.96\n50%        0.90          0.25         0.05       0.20          0.80   6.47\n75%        0.96          0.38         0.15       0.37          0.90   8.20\nmax        1.00          1.00         1.00       1.00          1.00   9.46"
          },
          "metadata": {}
        }
      ]
    },
    {
      "metadata": {
        "trusted": true
      },
      "cell_type": "code",
      "source": "df_features = df_Normalized.drop(['COUNTRY_ID'],axis=1) # Selecting the feature set, including the target feature\n\nmat_N = df_features.as_matrix()\ntrain_N = np.delete(mat_N, -1, axis=0)\ntest_N = mat_N[-1, :]\n\n\nc_neighbours = k_nearest_points(train_N, test_N, 3)\nc = predict_CPI(train_N, test_N, 3)\n\nprint('CPIs and distances of the 3 nearest neighbours:\\n' , c_neighbours)\nprint()\nprint('Predicted CPI:' , c.round(2)) ",
      "execution_count": 32,
      "outputs": [
        {
          "output_type": "stream",
          "text": "CPIs and distances of the 3 nearest neighbours:\n [(7.1357, 0.5964456993198056), (7.7751, 0.7295071755018734), (2.9961, 0.9535690730073549)]\n\nPredicted CPI: 5.97\n",
          "name": "stdout"
        }
      ]
    },
    {
      "metadata": {},
      "cell_type": "markdown",
      "source": "### (d) Weighted k-NN with k=16 for normalized data <a name=\"Weighted_16-NN_normalized_data\"></a>"
    },
    {
      "metadata": {
        "trusted": true
      },
      "cell_type": "code",
      "source": "d_neighbours = k_nearest_points(train_N, test_N, 16)\nd = predict_CPI(train_N, test_N, 16, True)\n\nprint('CPIs and distances of the 16 nearest neighbours:\\n' , d_neighbours)\nprint()\nprint('Predicted CPI:' , d.round(2)) ",
      "execution_count": 33,
      "outputs": [
        {
          "output_type": "stream",
          "text": "CPIs and distances of the 16 nearest neighbours:\n [(7.1357, 0.5964456993198056), (7.7751, 0.7295071755018734), (2.9961, 0.9535690730073549), (9.4627, 1.0202676580236605), (5.8069, 1.0242503119521613), (3.6356, 1.066451033013447), (8.8442, 1.1101112920312999), (8.6725, 1.154175534494832), (7.5360000000000005, 1.1836726475145292), (9.2985, 1.2346623332602191), (8.0461, 1.2451423683688687), (2.8622, 1.2476520724853433), (3.7741, 1.4221637382585248), (1.5171, 2.339692629195873), (2.4493, 2.6579499033757235), (1.7999, 3.2755343668873644)]\n\nPredicted CPI: 6.29\n",
          "name": "stdout"
        }
      ]
    },
    {
      "metadata": {},
      "cell_type": "markdown",
      "source": "### (e) Conclusions <a name=\"Conclusions\"></a>\n\n\n\nScenario| Dataset       | k   | Weighted average |Predicted CPI |\n--------| :-----------: |:---:| :---------------:|---------------:|\na       | Raw           | 3   | False            |4.59            |\nb       | Raw           | 16  | True             |6.16            |\nc       | Normalized    | 3   | False            |5.97            |\nd       | Normalized    | 16   | True            |6.29            |\nActual  | N/A.          | N/A  | N/A              |2.4488          |\n\n\n\n- According to the results the scenario a depicts the closest CPI to the actual CPI. Hence, it can be taken as the most accurate CPI.\n\n- When k=3, it can be noted that the prediction is more accurated, when k=16 the algorithm starts taking into account neighbors that are far away from the test instance in the feature space. As a result, the algorithm tends toward the general average of CPI value.\n\n- From the above results it is hard to capture the effect of weighing by reciprocal of Manhattan distance, as it was applied only on k=16 scenario.\n\n- Raw data set has generated more accurate results when compared to normalized data.\n\n"
    }
  ],
  "metadata": {
    "kernelspec": {
      "name": "python36",
      "display_name": "Python 3.6",
      "language": "python"
    },
    "language_info": {
      "mimetype": "text/x-python",
      "nbconvert_exporter": "python",
      "name": "python",
      "pygments_lexer": "ipython3",
      "version": "3.6.6",
      "file_extension": ".py",
      "codemirror_mode": {
        "version": 3,
        "name": "ipython"
      }
    }
  },
  "nbformat": 4,
  "nbformat_minor": 2
}